{
 "cells": [
  {
   "cell_type": "code",
   "execution_count": 1,
   "metadata": {},
   "outputs": [
    {
     "name": "stdout",
     "output_type": "stream",
     "text": [
      "Collecting selenium\n",
      "  Downloading selenium-3.141.0-py2.py3-none-any.whl (904 kB)\n",
      "Requirement already satisfied: urllib3 in c:\\programdata\\anaconda3\\lib\\site-packages (from selenium) (1.25.8)\n",
      "Installing collected packages: selenium\n",
      "Successfully installed selenium-3.141.0\n"
     ]
    }
   ],
   "source": [
    "!pip install selenium"
   ]
  },
  {
   "cell_type": "markdown",
   "metadata": {},
   "source": [
    "## Split을 통한 메뉴의 형태 변환 (str→list)"
   ]
  },
  {
   "cell_type": "code",
   "execution_count": 31,
   "metadata": {},
   "outputs": [],
   "source": [
    "# string 형태 input을 넣으면, 정확한 메뉴명 추출해서 list형태로 return\n",
    "def split_menu(menu):\n",
    "    menu = menu[13:-11]\n",
    "    while menu.find('(') != -1:\n",
    "        start_index = menu.find('(')\n",
    "        bracket_count = 1\n",
    "        index_itr = start_index\n",
    "        while bracket_count != 0:\n",
    "            index_itr += 1\n",
    "            if menu[index_itr] == '(':\n",
    "                bracket_count += 1\n",
    "            elif menu[index_itr] == ')':\n",
    "                bracket_count -= 1\n",
    "        end_index = index_itr\n",
    "        menu = menu[:start_index] + menu[end_index:]\n",
    "    while menu.find('（') != -1:\n",
    "        start_index = menu.find('（')\n",
    "        bracket_count = 1\n",
    "        index_itr = start_index\n",
    "        while bracket_count != 0:\n",
    "            index_itr += 1\n",
    "            if menu[index_itr] == '（':\n",
    "                bracket_count += 1\n",
    "            elif menu[index_itr] == '）':\n",
    "                bracket_count -= 1\n",
    "        end_index = index_itr\n",
    "        menu = menu[:start_index] + menu[end_index:]\n",
    "    menu = menu.split(',')\n",
    "    for i in range(len(menu)):\n",
    "        menu[i] = menu[i].split('/')[0]\n",
    "        return menu"
   ]
  },
  {
   "cell_type": "markdown",
   "metadata": {},
   "source": [
    "## 메뉴 별 주문량 카운팅 후 dict 형태로 저장 "
   ]
  },
  {
   "cell_type": "code",
   "execution_count": 3,
   "metadata": {},
   "outputs": [],
   "source": [
    "# list 형태 input을 넣으면, 각 메뉴별 주문량 카운팅\n",
    "# return 하지않고 전역변수 split_menu_dict={}에 저장\n",
    "# [주문량, 토탈별점, 맛별점, 양별점, 배달별점]\n",
    "def dict_menu(input):\n",
    "    \n",
    "    for i in range(len(input)):\n",
    "        if input[i] not in split_menu_dict:\n",
    "            \n",
    "            split_menu_dict[input[i]]=[0,0,0,0,0]\n",
    "            \n",
    "            split_menu_dict[input[i]][0]=1\n",
    "            \n",
    "            split_menu_dict[input[i]][1]=total_score\n",
    "            split_menu_dict[input[i]][2]=taste_score\n",
    "            split_menu_dict[input[i]][3]=quantity_score\n",
    "            split_menu_dict[input[i]][3]=delivery_score\n",
    "        \n",
    "        else:\n",
    "            split_menu_dict[input[i]][0]=split_menu_dict[input[i]][0]+1\n",
    "            \n",
    "            split_menu_dict[input[i]][1]=split_menu_dict[input[i]][1]+total_score\n",
    "            split_menu_dict[input[i]][2]=split_menu_dict[input[i]][2]+taste_score\n",
    "            split_menu_dict[input[i]][3]=split_menu_dict[input[i]][3]+quantity_score\n",
    "            split_menu_dict[input[i]][4]=split_menu_dict[input[i]][4]+delivery_score\n",
    "    return"
   ]
  },
  {
   "cell_type": "markdown",
   "metadata": {},
   "source": [
    "## 리뷰 202개 추출"
   ]
  },
  {
   "cell_type": "code",
   "execution_count": 18,
   "metadata": {},
   "outputs": [
    {
     "name": "stdout",
     "output_type": "stream",
     "text": [
      "원하는 매장의 요기요 url을 입력하세요: https://www.yogiyo.co.kr/mobile/#/291986/\n",
      " 12개 리뷰 가져오기 성공(최근 리뷰 202개 가져오는 중)\n",
      " 22개 리뷰 가져오기 성공(최근 리뷰 202개 가져오는 중)\n",
      " 32개 리뷰 가져오기 성공(최근 리뷰 202개 가져오는 중)\n",
      " 42개 리뷰 가져오기 성공(최근 리뷰 202개 가져오는 중)\n",
      " 52개 리뷰 가져오기 성공(최근 리뷰 202개 가져오는 중)\n",
      " 62개 리뷰 가져오기 성공(최근 리뷰 202개 가져오는 중)\n",
      " 72개 리뷰 가져오기 성공(최근 리뷰 202개 가져오는 중)\n",
      " 82개 리뷰 가져오기 성공(최근 리뷰 202개 가져오는 중)\n",
      " 92개 리뷰 가져오기 성공(최근 리뷰 202개 가져오는 중)\n",
      " 102개 리뷰 가져오기 성공(최근 리뷰 202개 가져오는 중)\n",
      " 112개 리뷰 가져오기 성공(최근 리뷰 202개 가져오는 중)\n",
      " 122개 리뷰 가져오기 성공(최근 리뷰 202개 가져오는 중)\n",
      " 132개 리뷰 가져오기 성공(최근 리뷰 202개 가져오는 중)\n",
      " 142개 리뷰 가져오기 성공(최근 리뷰 202개 가져오는 중)\n",
      " 152개 리뷰 가져오기 성공(최근 리뷰 202개 가져오는 중)\n",
      " 162개 리뷰 가져오기 성공(최근 리뷰 202개 가져오는 중)\n",
      " 172개 리뷰 가져오기 성공(최근 리뷰 202개 가져오는 중)\n",
      " 182개 리뷰 가져오기 성공(최근 리뷰 202개 가져오는 중)\n",
      " 192개 리뷰 가져오기 성공(최근 리뷰 202개 가져오는 중)\n",
      " 202개 리뷰 가져오기 성공(최근 리뷰 202개 가져오는 중)\n",
      "------------최근 리뷰 202개 가져오기 성공-------------\n",
      "\n"
     ]
    }
   ],
   "source": [
    "from selenium import webdriver\n",
    "import time\n",
    "from bs4 import BeautifulSoup\n",
    "import pandas as pd\n",
    "import numpy as np\n",
    "import operator\n",
    "import re\n",
    "import matplotlib\n",
    "import matplotlib.pyplot as plt\n",
    "\n",
    "\n",
    "url = input('원하는 매장의 요기요 url을 입력하세요: ')\n",
    "\n",
    "driver = webdriver.Chrome(\"C:/python/chromedriver.exe\")\n",
    "driver.get(url)\n",
    "time.sleep(3)\n",
    "\n",
    "click_point = driver.find_element_by_xpath('/html/body/div[6]/div[2]/div[1]/ul/li[2]/a')\n",
    "\n",
    "driver.execute_script(\"arguments[0].click();\", click_point)\n",
    "\n",
    "#댓글 더보기\n",
    "# num은 일의자리가 2으로 끝나야함\n",
    "review_num=202\n",
    "for i in range(12, review_num+1 , 10):\n",
    "    click_point = driver.find_element_by_xpath('//*[@id=\"review\"]/li[' + str(i) + ']/a/span')\n",
    "    driver.execute_script(\"arguments[0].click();\", click_point)\n",
    "    time.sleep(2)\n",
    "    print(\" {0}개 리뷰 가져오기 성공(최근 리뷰 {1}개 가져오는 중)\".format(i,review_num))\n",
    "\n",
    "print(\"------------최근 리뷰 {0}개 가져오기 성공-------------\\n\".format(review_num))\n",
    "\n",
    "\n",
    "source = driver.page_source\n",
    "soup = BeautifulSoup(source, 'html.parser')"
   ]
  },
  {
   "cell_type": "markdown",
   "metadata": {},
   "source": [
    "## 상위 10개 메뉴 추출 후 주문량 및 별점 합산"
   ]
  },
  {
   "cell_type": "code",
   "execution_count": 19,
   "metadata": {},
   "outputs": [
    {
     "name": "stdout",
     "output_type": "stream",
     "text": [
      "메뉴명 추출 및 주문량, 별점 데이터 저장 시작\n",
      "\n",
      "메뉴명 추출 및 주문량, 별점 데이터 저장 완료\n",
      "\n",
      "주문량 내림차순 정렬 완료\n",
      "\n"
     ]
    }
   ],
   "source": [
    "split_menu_dict={} # 전역변수 초기화\n",
    "total_score_dict={}\n",
    "taste_score_dict={}\n",
    "quantity_score_dict={}\n",
    "delivery_score_dict={}\n",
    "\n",
    "print(\"메뉴명 추출 및 주문량, 별점 데이터 저장 시작\\n\")\n",
    "for entry in soup.findAll('li', class_ = 'list-group-item star-point ng-scope'):\n",
    "    #person = entry.find('span', class_ = 'review-id ng-binding').text\n",
    "    menu = entry.find('div', class_ = 'order-items default ng-binding').text\n",
    "    #comment = entry.find('p', class_ = 'ng-binding').text\n",
    "    taste_score = int(entry.find('span', {'class' : 'points ng-binding', 'ng-show' : 'review.rating_taste > 0'}).text)\n",
    "    quantity_score = int(entry.find('span', {'class' : 'points ng-binding', 'ng-show' : 'review.rating_quantity > 0'}).text)\n",
    "    delivery_score = int(entry.find('span', {'class' : 'points ng-binding', 'ng-show' : 'review.rating_delivery > 0'}).text)\n",
    "    total_score = len(entry.findAll('span', class_ = 'full ng-scope'))\n",
    "\n",
    "    #print('Reviewer: ', person)\n",
    "    #print('Menu: ', menu)\n",
    "    #print('Comment', comment)\n",
    "    #print('Total:', total_score, '\\tTaste:', taste_score, '\\tQuantity:', quantity_score, '\\tDelivery:', delivery_score)\n",
    "    #print('\\n\\n\\n\\n')\n",
    "    \n",
    "    # 1. 메뉴 string에서 메뉴이름만 list 형태로 저장\n",
    "    output_list=split_menu(menu)\n",
    "    \n",
    "    # 2. 메뉴, 주문량, total_score, taste_score, quantity_score, delivery_score을 dict형태로 저장\n",
    "    dict_menu(output_list)\n",
    "    \n",
    "\n",
    "print(\"메뉴명 추출 및 주문량, 별점 데이터 저장 완료\\n\")\n",
    "\n",
    "# 3. list에 저장한 주문량 기준 내림차순 정렬\n",
    "output_dict_sorted=sorted(split_menu_dict.items(), key=operator.itemgetter(1), reverse=True)\n",
    "print(\"주문량 내림차순 정렬 완료\\n\") \n",
    "\n",
    "# 4. 메뉴, 주문수, 토탈별점 합, 맛 별점 합, 양 별점 합, 배달별점 합을 저장할 빈 리스트 생성\n",
    "menu=[] \n",
    "\n",
    "\n",
    "# 5. dict value에 저장된 list를 꺼내서\n",
    "# menu=[메뉴,주문량,토탈별점 합, 맛 별점 합, 양 별점 합, 배달별점 합] 으로 저장\n",
    "for i in range(len(output_dict_sorted)):\n",
    "    v=list(output_dict_sorted[i][1])\n",
    "    menu.append([output_dict_sorted[i][0], v[0],v[1],v[2],v[3],v[4]])\n",
    "\n",
    "    \n",
    "\n",
    "# 한글폰트 encoding가능하도록 폰트 설정\n",
    "matplotlib.rcParams['font.family']='Malgun Gothic' # 한글패치\n",
    "\n",
    "# 6. menu 리스트를 dataframe으로 저장\n",
    "\n",
    "dataframe=pd.DataFrame(menu)\n",
    "#dataframe.to_csv('c:/python/menu_order_Mac_list.csv',header=False, index=False,encoding='utf-8-sig')\n",
    "\n",
    "# column명 바꾸기\n",
    "dataframe.columns=['메뉴','주문량','total_sum','taste_sum','quantity_sum','delivery_sum']\n",
    "\n",
    "# 7. 상위 10개 메뉴만 뽑아서 part_menu 리스트에 저장\n",
    "part_menu=dataframe.loc[0:9] # 상위 10개 메뉴정보 따로 저장\n",
    "\n",
    "\n",
    "MENU=part_menu['메뉴'] # 메뉴 리스트 저장\n",
    "ORDER=part_menu['주문량'] # 주문량 리스트 저장\n",
    "\n",
    "index=np.arange(len(MENU)) # index에 메뉴갯수(10개)로 0~10 순차적 할당, 어레이 생성\n",
    "\n",
    "\n",
    "#print(\"그래프 생성 시작\\n\")\n"
   ]
  },
  {
   "cell_type": "code",
   "execution_count": 20,
   "metadata": {},
   "outputs": [
    {
     "data": {
      "text/html": [
       "<div>\n",
       "<style scoped>\n",
       "    .dataframe tbody tr th:only-of-type {\n",
       "        vertical-align: middle;\n",
       "    }\n",
       "\n",
       "    .dataframe tbody tr th {\n",
       "        vertical-align: top;\n",
       "    }\n",
       "\n",
       "    .dataframe thead th {\n",
       "        text-align: right;\n",
       "    }\n",
       "</style>\n",
       "<table border=\"1\" class=\"dataframe\">\n",
       "  <thead>\n",
       "    <tr style=\"text-align: right;\">\n",
       "      <th></th>\n",
       "      <th>메뉴</th>\n",
       "      <th>주문량</th>\n",
       "      <th>total_sum</th>\n",
       "      <th>taste_sum</th>\n",
       "      <th>quantity_sum</th>\n",
       "      <th>delivery_sum</th>\n",
       "    </tr>\n",
       "  </thead>\n",
       "  <tbody>\n",
       "    <tr>\n",
       "      <th>0</th>\n",
       "      <td>불고기버거</td>\n",
       "      <td>24</td>\n",
       "      <td>114</td>\n",
       "      <td>115</td>\n",
       "      <td>118</td>\n",
       "      <td>111</td>\n",
       "    </tr>\n",
       "    <tr>\n",
       "      <th>1</th>\n",
       "      <td>빅맥Ⓡ 만원팩</td>\n",
       "      <td>22</td>\n",
       "      <td>102</td>\n",
       "      <td>103</td>\n",
       "      <td>105</td>\n",
       "      <td>98</td>\n",
       "    </tr>\n",
       "    <tr>\n",
       "      <th>2</th>\n",
       "      <td>단품 상하이 치킨 스낵랩Ⓡ</td>\n",
       "      <td>17</td>\n",
       "      <td>81</td>\n",
       "      <td>81</td>\n",
       "      <td>82</td>\n",
       "      <td>78</td>\n",
       "    </tr>\n",
       "    <tr>\n",
       "      <th>3</th>\n",
       "      <td>빅맥Ⓡ 세트</td>\n",
       "      <td>17</td>\n",
       "      <td>80</td>\n",
       "      <td>84</td>\n",
       "      <td>82</td>\n",
       "      <td>76</td>\n",
       "    </tr>\n",
       "    <tr>\n",
       "      <th>4</th>\n",
       "      <td>맥스파이시Ⓡ 상하이버거 세트</td>\n",
       "      <td>15</td>\n",
       "      <td>69</td>\n",
       "      <td>71</td>\n",
       "      <td>72</td>\n",
       "      <td>64</td>\n",
       "    </tr>\n",
       "    <tr>\n",
       "      <th>5</th>\n",
       "      <td>트리플 치즈버거 세트</td>\n",
       "      <td>15</td>\n",
       "      <td>62</td>\n",
       "      <td>66</td>\n",
       "      <td>64</td>\n",
       "      <td>55</td>\n",
       "    </tr>\n",
       "    <tr>\n",
       "      <th>6</th>\n",
       "      <td>맥너겟Ⓡ 4조각</td>\n",
       "      <td>13</td>\n",
       "      <td>59</td>\n",
       "      <td>61</td>\n",
       "      <td>62</td>\n",
       "      <td>57</td>\n",
       "    </tr>\n",
       "    <tr>\n",
       "      <th>7</th>\n",
       "      <td>치즈버거</td>\n",
       "      <td>12</td>\n",
       "      <td>57</td>\n",
       "      <td>60</td>\n",
       "      <td>58</td>\n",
       "      <td>51</td>\n",
       "    </tr>\n",
       "    <tr>\n",
       "      <th>8</th>\n",
       "      <td>골든 모짜렐라 치즈스틱 2조각</td>\n",
       "      <td>12</td>\n",
       "      <td>56</td>\n",
       "      <td>57</td>\n",
       "      <td>58</td>\n",
       "      <td>50</td>\n",
       "    </tr>\n",
       "    <tr>\n",
       "      <th>9</th>\n",
       "      <td>빅맥Ⓡ</td>\n",
       "      <td>12</td>\n",
       "      <td>56</td>\n",
       "      <td>57</td>\n",
       "      <td>56</td>\n",
       "      <td>51</td>\n",
       "    </tr>\n",
       "  </tbody>\n",
       "</table>\n",
       "</div>"
      ],
      "text/plain": [
       "                 메뉴  주문량  total_sum  taste_sum  quantity_sum  delivery_sum\n",
       "0             불고기버거   24        114        115           118           111\n",
       "1           빅맥Ⓡ 만원팩   22        102        103           105            98\n",
       "2    단품 상하이 치킨 스낵랩Ⓡ   17         81         81            82            78\n",
       "3            빅맥Ⓡ 세트   17         80         84            82            76\n",
       "4   맥스파이시Ⓡ 상하이버거 세트   15         69         71            72            64\n",
       "5       트리플 치즈버거 세트   15         62         66            64            55\n",
       "6          맥너겟Ⓡ 4조각   13         59         61            62            57\n",
       "7              치즈버거   12         57         60            58            51\n",
       "8  골든 모짜렐라 치즈스틱 2조각   12         56         57            58            50\n",
       "9               빅맥Ⓡ   12         56         57            56            51"
      ]
     },
     "execution_count": 20,
     "metadata": {},
     "output_type": "execute_result"
    }
   ],
   "source": [
    "part_menu"
   ]
  },
  {
   "cell_type": "markdown",
   "metadata": {},
   "source": [
    "## 상위 10개 메뉴 별 리뷰수 막대그래프"
   ]
  },
  {
   "cell_type": "code",
   "execution_count": 21,
   "metadata": {},
   "outputs": [
    {
     "name": "stderr",
     "output_type": "stream",
     "text": [
      "C:\\ProgramData\\Anaconda3\\lib\\site-packages\\matplotlib\\backends\\backend_agg.py:211: RuntimeWarning:\n",
      "\n",
      "Glyph 9415 missing from current font.\n",
      "\n",
      "C:\\ProgramData\\Anaconda3\\lib\\site-packages\\matplotlib\\backends\\backend_agg.py:180: RuntimeWarning:\n",
      "\n",
      "Glyph 9415 missing from current font.\n",
      "\n"
     ]
    },
    {
     "data": {
      "image/png": "[encoded data removed]",
      "text/plain": [
       "<Figure size 864x576 with 1 Axes>"
      ]
     },
     "metadata": {
      "needs_background": "light"
     },
     "output_type": "display_data"
    }
   ],
   "source": [
    "plt.rcParams[\"figure.figsize\"] = (12,8) # 그래프 사이즈 설정, (가로inch, 세로inch)\n",
    "plt.rc('font',size=12) # 폰트 사이즈 설정\n",
    "\n",
    "width_size=0.4 # 막대기 두께 설정\n",
    "\n",
    "plt.bar(index , ORDER , color='y' , tick_label=MENU , width=width_size )\n",
    "#plt.bar(x축에 할당할 어레이 , y축에 할당할 어레이, 컬러 yellow, x축에 붙일 라벨 어레이, 두께 0.4 )\n",
    "\n",
    "plt.xticks(rotation=45)\n",
    "# x축 라벨(메뉴이름)이 길어서 겹치니까 45도 틀어서 표기\n",
    "\n",
    "plt.grid(True)\n",
    "# grid 설정\n",
    "\n",
    "plt.xlabel('리뷰 수 TOP 10 MENU') # x축 설명\n",
    "plt.ylabel('ORDER') # y축 설명\n",
    "plt.title('메뉴 별 리뷰수') # 그래프 설명\n",
    "\n",
    "# 8. 각 막대기 위에 주문량 표기\n",
    "for i in np.arange(0,10):\n",
    "    plt.text(width_size*2.5*i, ORDER[i]+1,ORDER[i])\n",
    "    # plt.text(표시할 x축 좌표, 표시할 y축 좌표, 표시할 내용)\n",
    "\n",
    "\n",
    "\n",
    "plt.show()"
   ]
  },
  {
   "cell_type": "markdown",
   "metadata": {},
   "source": [
    "## 각 메뉴별 별점 평균 (꺾은선 그래프)\n",
    "- 종합 평균, 맛 평균, 양 평균"
   ]
  },
  {
   "cell_type": "code",
   "execution_count": 22,
   "metadata": {},
   "outputs": [
    {
     "name": "stderr",
     "output_type": "stream",
     "text": [
      "C:\\ProgramData\\Anaconda3\\lib\\site-packages\\matplotlib\\backends\\backend_agg.py:211: RuntimeWarning:\n",
      "\n",
      "Glyph 9415 missing from current font.\n",
      "\n",
      "C:\\ProgramData\\Anaconda3\\lib\\site-packages\\matplotlib\\backends\\backend_agg.py:180: RuntimeWarning:\n",
      "\n",
      "Glyph 9415 missing from current font.\n",
      "\n"
     ]
    },
    {
     "data": {
      "image/png": "[encoded data removed]",
      "text/plain": [
       "<Figure size 864x2160 with 10 Axes>"
      ]
     },
     "metadata": {
      "needs_background": "light"
     },
     "output_type": "display_data"
    }
   ],
   "source": [
    "for i in np.arange(len(part_menu)):\n",
    "    MENU=part_menu['메뉴'][i] \n",
    "    # i번째 메뉴 할당\n",
    "    \n",
    "    TOTAL=part_menu['total_sum'][i]/part_menu['주문량'][i]\n",
    "    # i번째 평균 토탈 별점 할당\n",
    "    \n",
    "    TASTE=part_menu['taste_sum'][i]/part_menu['주문량'][i]\n",
    "    # i번째 평균 맛 별점 할당\n",
    "    \n",
    "    QUANTITY=part_menu['quantity_sum'][i]/part_menu['주문량'][i]\n",
    "    # i번째 평균 양 별점 할당\n",
    "    \n",
    "    plt.rcParams[\"font.size\"] = 12 \n",
    "    # 폰트사이즈 설정\n",
    "    \n",
    "    plt.rcParams[\"figure.figsize\"] = (12,30) \n",
    "    # 그래프 사이즈 설정\n",
    "    \n",
    "    plt.subplot(5,2,i+1) \n",
    "    # 그래프 배열 설정 \n",
    "    # plt.subplot(5행, 2열, 총 10개 자리중 어디에 그릴것인지 설정)\n",
    "    \n",
    "    plt.ylim([4.0, 5.0])\n",
    "    # y축 범위 설정( 4.0 ~ 5.0 )\n",
    "    \n",
    "    plt.plot(['종합 평균별점','맛 평균별점','양 평균별점'],[TOTAL,TASTE,QUANTITY],'-.Xr')\n",
    "    # plt.plot( x축 라벨 설정, y축 값 설정, 점선종류 red )\n",
    "    \n",
    "    plt.title(\"{0}위.\".format(i+1)+MENU)\n",
    "    # 그래프 제목 설정\n",
    "    \n",
    "    \n",
    "    # 그래프에 y축 값 표시하기\n",
    "    # plt.text( x축 위치, y축위치, 표시할 값)\n",
    "    # 소수점 3자리까지 표시\n",
    "    \n",
    "    plt.text('종합 평균별점', float(format(TOTAL,\".3f\"))-0.05, format(TOTAL,\"0.3f\"))\n",
    "    plt.text('맛 평균별점', float(format(TASTE,\".3f\"))-0.05, format(TASTE,\"0.3f\"))\n",
    "    plt.text('양 평균별점', float(format(QUANTITY,\".3f\"))-0.05, format(QUANTITY,\"0.3f\"))\n",
    "    \n",
    "    plt.grid()"
   ]
  },
  {
   "cell_type": "markdown",
   "metadata": {},
   "source": [
    "## 각 메뉴별 별점 평균 (radar chart)\n",
    "- 종합 평균, 맛 평균, 양 평균"
   ]
  },
  {
   "cell_type": "code",
   "execution_count": 23,
   "metadata": {},
   "outputs": [
    {
     "data": {
      "application/vnd.plotly.v1+json": {
       "config": {
        "plotlyServerURL": "https://plot.ly"
       },
       "data": [
        {
         "fill": "toself",
         "r": [
          4.75,
          4.791666666666667,
          4.916666666666667
         ],
         "subplot": "polar",
         "theta": [
          "종합 평균별점",
          "맛 평균별점",
          "양 평균별점"
         ],
         "type": "scatterpolar"
        },
        {
         "fill": "toself",
         "r": [
          4.636363636363637,
          4.681818181818182,
          4.7727272727272725
         ],
         "subplot": "polar2",
         "theta": [
          "종합 평균별점",
          "맛 평균별점",
          "양 평균별점"
         ],
         "type": "scatterpolar"
        },
        {
         "fill": "toself",
         "r": [
          4.764705882352941,
          4.764705882352941,
          4.823529411764706
         ],
         "subplot": "polar3",
         "theta": [
          "종합 평균별점",
          "맛 평균별점",
          "양 평균별점"
         ],
         "type": "scatterpolar"
        },
        {
         "fill": "toself",
         "r": [
          4.705882352941177,
          4.9411764705882355,
          4.823529411764706
         ],
         "subplot": "polar4",
         "theta": [
          "종합 평균별점",
          "맛 평균별점",
          "양 평균별점"
         ],
         "type": "scatterpolar"
        },
        {
         "fill": "toself",
         "r": [
          4.6,
          4.733333333333333,
          4.8
         ],
         "subplot": "polar5",
         "theta": [
          "종합 평균별점",
          "맛 평균별점",
          "양 평균별점"
         ],
         "type": "scatterpolar"
        },
        {
         "fill": "toself",
         "r": [
          4.133333333333334,
          4.4,
          4.266666666666667
         ],
         "subplot": "polar6",
         "theta": [
          "종합 평균별점",
          "맛 평균별점",
          "양 평균별점"
         ],
         "type": "scatterpolar"
        },
        {
         "fill": "toself",
         "r": [
          4.538461538461538,
          4.6923076923076925,
          4.769230769230769
         ],
         "subplot": "polar7",
         "theta": [
          "종합 평균별점",
          "맛 평균별점",
          "양 평균별점"
         ],
         "type": "scatterpolar"
        },
        {
         "fill": "toself",
         "r": [
          4.75,
          5,
          4.833333333333333
         ],
         "subplot": "polar8",
         "theta": [
          "종합 평균별점",
          "맛 평균별점",
          "양 평균별점"
         ],
         "type": "scatterpolar"
        },
        {
         "fill": "toself",
         "r": [
          4.666666666666667,
          4.75,
          4.833333333333333
         ],
         "subplot": "polar9",
         "theta": [
          "종합 평균별점",
          "맛 평균별점",
          "양 평균별점"
         ],
         "type": "scatterpolar"
        },
        {
         "fill": "toself",
         "r": [
          4.666666666666667,
          4.75,
          4.666666666666667
         ],
         "subplot": "polar10",
         "theta": [
          "종합 평균별점",
          "맛 평균별점",
          "양 평균별점"
         ],
         "type": "scatterpolar"
        }
       ],
       "layout": {
        "annotations": [
         {
          "font": {
           "size": 16
          },
          "showarrow": false,
          "text": "1위.불고기버거",
          "x": 0.225,
          "xanchor": "center",
          "xref": "paper",
          "y": 1,
          "yanchor": "bottom",
          "yref": "paper"
         },
         {
          "font": {
           "size": 16
          },
          "showarrow": false,
          "text": "2위.빅맥Ⓡ 만원팩",
          "x": 0.775,
          "xanchor": "center",
          "xref": "paper",
          "y": 1,
          "yanchor": "bottom",
          "yref": "paper"
         },
         {
          "font": {
           "size": 16
          },
          "showarrow": false,
          "text": "3위.단품 상하이 치킨 스낵랩Ⓡ",
          "x": 0.225,
          "xanchor": "center",
          "xref": "paper",
          "y": 0.794,
          "yanchor": "bottom",
          "yref": "paper"
         },
         {
          "font": {
           "size": 16
          },
          "showarrow": false,
          "text": "4위.빅맥Ⓡ 세트",
          "x": 0.775,
          "xanchor": "center",
          "xref": "paper",
          "y": 0.794,
          "yanchor": "bottom",
          "yref": "paper"
         },
         {
          "font": {
           "size": 16
          },
          "showarrow": false,
          "text": "5위.맥스파이시Ⓡ 상하이버거 세트",
          "x": 0.225,
          "xanchor": "center",
          "xref": "paper",
          "y": 0.588,
          "yanchor": "bottom",
          "yref": "paper"
         },
         {
          "font": {
           "size": 16
          },
          "showarrow": false,
          "text": "6위.트리플 치즈버거 세트",
          "x": 0.775,
          "xanchor": "center",
          "xref": "paper",
          "y": 0.588,
          "yanchor": "bottom",
          "yref": "paper"
         },
         {
          "font": {
           "size": 16
          },
          "showarrow": false,
          "text": "7위.맥너겟Ⓡ 4조각",
          "x": 0.225,
          "xanchor": "center",
          "xref": "paper",
          "y": 0.382,
          "yanchor": "bottom",
          "yref": "paper"
         },
         {
          "font": {
           "size": 16
          },
          "showarrow": false,
          "text": "8위.치즈버거",
          "x": 0.775,
          "xanchor": "center",
          "xref": "paper",
          "y": 0.382,
          "yanchor": "bottom",
          "yref": "paper"
         },
         {
          "font": {
           "size": 16
          },
          "showarrow": false,
          "text": "9위.골든 모짜렐라 치즈스틱 2조각",
          "x": 0.225,
          "xanchor": "center",
          "xref": "paper",
          "y": 0.176,
          "yanchor": "bottom",
          "yref": "paper"
         },
         {
          "font": {
           "size": 16
          },
          "showarrow": false,
          "text": "10위.빅맥Ⓡ",
          "x": 0.775,
          "xanchor": "center",
          "xref": "paper",
          "y": 0.176,
          "yanchor": "bottom",
          "yref": "paper"
         }
        ],
        "height": 1600,
        "polar": {
         "domain": {
          "x": [
           0,
           0.45
          ],
          "y": [
           0.824,
           1
          ]
         },
         "radialaxis": {
          "range": [
           4,
           5
          ]
         }
        },
        "polar10": {
         "domain": {
          "x": [
           0.55,
           1
          ],
          "y": [
           0,
           0.176
          ]
         },
         "radialaxis": {
          "range": [
           4,
           5
          ]
         }
        },
        "polar2": {
         "domain": {
          "x": [
           0.55,
           1
          ],
          "y": [
           0.824,
           1
          ]
         },
         "radialaxis": {
          "range": [
           4,
           5
          ]
         }
        },
        "polar3": {
         "domain": {
          "x": [
           0,
           0.45
          ],
          "y": [
           0.618,
           0.794
          ]
         },
         "radialaxis": {
          "range": [
           4,
           5
          ]
         }
        },
        "polar4": {
         "domain": {
          "x": [
           0.55,
           1
          ],
          "y": [
           0.618,
           0.794
          ]
         },
         "radialaxis": {
          "range": [
           4,
           5
          ]
         }
        },
        "polar5": {
         "domain": {
          "x": [
           0,
           0.45
          ],
          "y": [
           0.412,
           0.588
          ]
         },
         "radialaxis": {
          "range": [
           4,
           5
          ]
         }
        },
        "polar6": {
         "domain": {
          "x": [
           0.55,
           1
          ],
          "y": [
           0.412,
           0.588
          ]
         },
         "radialaxis": {
          "range": [
           4,
           5
          ]
         }
        },
        "polar7": {
         "domain": {
          "x": [
           0,
           0.45
          ],
          "y": [
           0.206,
           0.382
          ]
         },
         "radialaxis": {
          "range": [
           4,
           5
          ]
         }
        },
        "polar8": {
         "domain": {
          "x": [
           0.55,
           1
          ],
          "y": [
           0.206,
           0.382
          ]
         },
         "radialaxis": {
          "range": [
           4,
           5
          ]
         }
        },
        "polar9": {
         "domain": {
          "x": [
           0,
           0.45
          ],
          "y": [
           0,
           0.176
          ]
         },
         "radialaxis": {
          "range": [
           4,
           5
          ]
         }
        },
        "showlegend": false,
        "template": {
         "data": {
          "bar": [
           {
            "error_x": {
             "color": "#2a3f5f"
            },
            "error_y": {
             "color": "#2a3f5f"
            },
            "marker": {
             "line": {
              "color": "#E5ECF6",
              "width": 0.5
             }
            },
            "type": "bar"
           }
          ],
          "barpolar": [
           {
            "marker": {
             "line": {
              "color": "#E5ECF6",
              "width": 0.5
             }
            },
            "type": "barpolar"
           }
          ],
          "carpet": [
           {
            "aaxis": {
             "endlinecolor": "#2a3f5f",
             "gridcolor": "white",
             "linecolor": "white",
             "minorgridcolor": "white",
             "startlinecolor": "#2a3f5f"
            },
            "baxis": {
             "endlinecolor": "#2a3f5f",
             "gridcolor": "white",
             "linecolor": "white",
             "minorgridcolor": "white",
             "startlinecolor": "#2a3f5f"
            },
            "type": "carpet"
           }
          ],
          "choropleth": [
           {
            "colorbar": {
             "outlinewidth": 0,
             "ticks": ""
            },
            "type": "choropleth"
           }
          ],
          "contour": [
           {
            "colorbar": {
             "outlinewidth": 0,
             "ticks": ""
            },
            "colorscale": [
             [
              0,
              "#0d0887"
             ],
             [
              0.1111111111111111,
              "#46039f"
             ],
             [
              0.2222222222222222,
              "#7201a8"
             ],
             [
              0.3333333333333333,
              "#9c179e"
             ],
             [
              0.4444444444444444,
              "#bd3786"
             ],
             [
              0.5555555555555556,
              "#d8576b"
             ],
             [
              0.6666666666666666,
              "#ed7953"
             ],
             [
              0.7777777777777778,
              "#fb9f3a"
             ],
             [
              0.8888888888888888,
              "#fdca26"
             ],
             [
              1,
              "#f0f921"
             ]
            ],
            "type": "contour"
           }
          ],
          "contourcarpet": [
           {
            "colorbar": {
             "outlinewidth": 0,
             "ticks": ""
            },
            "type": "contourcarpet"
           }
          ],
          "heatmap": [
           {
            "colorbar": {
             "outlinewidth": 0,
             "ticks": ""
            },
            "colorscale": [
             [
              0,
              "#0d0887"
             ],
             [
              0.1111111111111111,
              "#46039f"
             ],
             [
              0.2222222222222222,
              "#7201a8"
             ],
             [
              0.3333333333333333,
              "#9c179e"
             ],
             [
              0.4444444444444444,
              "#bd3786"
             ],
             [
              0.5555555555555556,
              "#d8576b"
             ],
             [
              0.6666666666666666,
              "#ed7953"
             ],
             [
              0.7777777777777778,
              "#fb9f3a"
             ],
             [
              0.8888888888888888,
              "#fdca26"
             ],
             [
              1,
              "#f0f921"
             ]
            ],
            "type": "heatmap"
           }
          ],
          "heatmapgl": [
           {
            "colorbar": {
             "outlinewidth": 0,
             "ticks": ""
            },
            "colorscale": [
             [
              0,
              "#0d0887"
             ],
             [
              0.1111111111111111,
              "#46039f"
             ],
             [
              0.2222222222222222,
              "#7201a8"
             ],
             [
              0.3333333333333333,
              "#9c179e"
             ],
             [
              0.4444444444444444,
              "#bd3786"
             ],
             [
              0.5555555555555556,
              "#d8576b"
             ],
             [
              0.6666666666666666,
              "#ed7953"
             ],
             [
              0.7777777777777778,
              "#fb9f3a"
             ],
             [
              0.8888888888888888,
              "#fdca26"
             ],
             [
              1,
              "#f0f921"
             ]
            ],
            "type": "heatmapgl"
           }
          ],
          "histogram": [
           {
            "marker": {
             "colorbar": {
              "outlinewidth": 0,
              "ticks": ""
             }
            },
            "type": "histogram"
           }
          ],
          "histogram2d": [
           {
            "colorbar": {
             "outlinewidth": 0,
             "ticks": ""
            },
            "colorscale": [
             [
              0,
              "#0d0887"
             ],
             [
              0.1111111111111111,
              "#46039f"
             ],
             [
              0.2222222222222222,
              "#7201a8"
             ],
             [
              0.3333333333333333,
              "#9c179e"
             ],
             [
              0.4444444444444444,
              "#bd3786"
             ],
             [
              0.5555555555555556,
              "#d8576b"
             ],
             [
              0.6666666666666666,
              "#ed7953"
             ],
             [
              0.7777777777777778,
              "#fb9f3a"
             ],
             [
              0.8888888888888888,
              "#fdca26"
             ],
             [
              1,
              "#f0f921"
             ]
            ],
            "type": "histogram2d"
           }
          ],
          "histogram2dcontour": [
           {
            "colorbar": {
             "outlinewidth": 0,
             "ticks": ""
            },
            "colorscale": [
             [
              0,
              "#0d0887"
             ],
             [
              0.1111111111111111,
              "#46039f"
             ],
             [
              0.2222222222222222,
              "#7201a8"
             ],
             [
              0.3333333333333333,
              "#9c179e"
             ],
             [
              0.4444444444444444,
              "#bd3786"
             ],
             [
              0.5555555555555556,
              "#d8576b"
             ],
             [
              0.6666666666666666,
              "#ed7953"
             ],
             [
              0.7777777777777778,
              "#fb9f3a"
             ],
             [
              0.8888888888888888,
              "#fdca26"
             ],
             [
              1,
              "#f0f921"
             ]
            ],
            "type": "histogram2dcontour"
           }
          ],
          "mesh3d": [
           {
            "colorbar": {
             "outlinewidth": 0,
             "ticks": ""
            },
            "type": "mesh3d"
           }
          ],
          "parcoords": [
           {
            "line": {
             "colorbar": {
              "outlinewidth": 0,
              "ticks": ""
             }
            },
            "type": "parcoords"
           }
          ],
          "pie": [
           {
            "automargin": true,
            "type": "pie"
           }
          ],
          "scatter": [
           {
            "marker": {
             "colorbar": {
              "outlinewidth": 0,
              "ticks": ""
             }
            },
            "type": "scatter"
           }
          ],
          "scatter3d": [
           {
            "line": {
             "colorbar": {
              "outlinewidth": 0,
              "ticks": ""
             }
            },
            "marker": {
             "colorbar": {
              "outlinewidth": 0,
              "ticks": ""
             }
            },
            "type": "scatter3d"
           }
          ],
          "scattercarpet": [
           {
            "marker": {
             "colorbar": {
              "outlinewidth": 0,
              "ticks": ""
             }
            },
            "type": "scattercarpet"
           }
          ],
          "scattergeo": [
           {
            "marker": {
             "colorbar": {
              "outlinewidth": 0,
              "ticks": ""
             }
            },
            "type": "scattergeo"
           }
          ],
          "scattergl": [
           {
            "marker": {
             "colorbar": {
              "outlinewidth": 0,
              "ticks": ""
             }
            },
            "type": "scattergl"
           }
          ],
          "scattermapbox": [
           {
            "marker": {
             "colorbar": {
              "outlinewidth": 0,
              "ticks": ""
             }
            },
            "type": "scattermapbox"
           }
          ],
          "scatterpolar": [
           {
            "marker": {
             "colorbar": {
              "outlinewidth": 0,
              "ticks": ""
             }
            },
            "type": "scatterpolar"
           }
          ],
          "scatterpolargl": [
           {
            "marker": {
             "colorbar": {
              "outlinewidth": 0,
              "ticks": ""
             }
            },
            "type": "scatterpolargl"
           }
          ],
          "scatterternary": [
           {
            "marker": {
             "colorbar": {
              "outlinewidth": 0,
              "ticks": ""
             }
            },
            "type": "scatterternary"
           }
          ],
          "surface": [
           {
            "colorbar": {
             "outlinewidth": 0,
             "ticks": ""
            },
            "colorscale": [
             [
              0,
              "#0d0887"
             ],
             [
              0.1111111111111111,
              "#46039f"
             ],
             [
              0.2222222222222222,
              "#7201a8"
             ],
             [
              0.3333333333333333,
              "#9c179e"
             ],
             [
              0.4444444444444444,
              "#bd3786"
             ],
             [
              0.5555555555555556,
              "#d8576b"
             ],
             [
              0.6666666666666666,
              "#ed7953"
             ],
             [
              0.7777777777777778,
              "#fb9f3a"
             ],
             [
              0.8888888888888888,
              "#fdca26"
             ],
             [
              1,
              "#f0f921"
             ]
            ],
            "type": "surface"
           }
          ],
          "table": [
           {
            "cells": {
             "fill": {
              "color": "#EBF0F8"
             },
             "line": {
              "color": "white"
             }
            },
            "header": {
             "fill": {
              "color": "#C8D4E3"
             },
             "line": {
              "color": "white"
             }
            },
            "type": "table"
           }
          ]
         },
         "layout": {
          "annotationdefaults": {
           "arrowcolor": "#2a3f5f",
           "arrowhead": 0,
           "arrowwidth": 1
          },
          "coloraxis": {
           "colorbar": {
            "outlinewidth": 0,
            "ticks": ""
           }
          },
          "colorscale": {
           "diverging": [
            [
             0,
             "#8e0152"
            ],
            [
             0.1,
             "#c51b7d"
            ],
            [
             0.2,
             "#de77ae"
            ],
            [
             0.3,
             "#f1b6da"
            ],
            [
             0.4,
             "#fde0ef"
            ],
            [
             0.5,
             "#f7f7f7"
            ],
            [
             0.6,
             "#e6f5d0"
            ],
            [
             0.7,
             "#b8e186"
            ],
            [
             0.8,
             "#7fbc41"
            ],
            [
             0.9,
             "#4d9221"
            ],
            [
             1,
             "#276419"
            ]
           ],
           "sequential": [
            [
             0,
             "#0d0887"
            ],
            [
             0.1111111111111111,
             "#46039f"
            ],
            [
             0.2222222222222222,
             "#7201a8"
            ],
            [
             0.3333333333333333,
             "#9c179e"
            ],
            [
             0.4444444444444444,
             "#bd3786"
            ],
            [
             0.5555555555555556,
             "#d8576b"
            ],
            [
             0.6666666666666666,
             "#ed7953"
            ],
            [
             0.7777777777777778,
             "#fb9f3a"
            ],
            [
             0.8888888888888888,
             "#fdca26"
            ],
            [
             1,
             "#f0f921"
            ]
           ],
           "sequentialminus": [
            [
             0,
             "#0d0887"
            ],
            [
             0.1111111111111111,
             "#46039f"
            ],
            [
             0.2222222222222222,
             "#7201a8"
            ],
            [
             0.3333333333333333,
             "#9c179e"
            ],
            [
             0.4444444444444444,
             "#bd3786"
            ],
            [
             0.5555555555555556,
             "#d8576b"
            ],
            [
             0.6666666666666666,
             "#ed7953"
            ],
            [
             0.7777777777777778,
             "#fb9f3a"
            ],
            [
             0.8888888888888888,
             "#fdca26"
            ],
            [
             1,
             "#f0f921"
            ]
           ]
          },
          "colorway": [
           "#636efa",
           "#EF553B",
           "#00cc96",
           "#ab63fa",
           "#FFA15A",
           "#19d3f3",
           "#FF6692",
           "#B6E880",
           "#FF97FF",
           "#FECB52"
          ],
          "font": {
           "color": "#2a3f5f"
          },
          "geo": {
           "bgcolor": "white",
           "lakecolor": "white",
           "landcolor": "#E5ECF6",
           "showlakes": true,
           "showland": true,
           "subunitcolor": "white"
          },
          "hoverlabel": {
           "align": "left"
          },
          "hovermode": "closest",
          "mapbox": {
           "style": "light"
          },
          "paper_bgcolor": "white",
          "plot_bgcolor": "#E5ECF6",
          "polar": {
           "angularaxis": {
            "gridcolor": "white",
            "linecolor": "white",
            "ticks": ""
           },
           "bgcolor": "#E5ECF6",
           "radialaxis": {
            "gridcolor": "white",
            "linecolor": "white",
            "ticks": ""
           }
          },
          "scene": {
           "xaxis": {
            "backgroundcolor": "#E5ECF6",
            "gridcolor": "white",
            "gridwidth": 2,
            "linecolor": "white",
            "showbackground": true,
            "ticks": "",
            "zerolinecolor": "white"
           },
           "yaxis": {
            "backgroundcolor": "#E5ECF6",
            "gridcolor": "white",
            "gridwidth": 2,
            "linecolor": "white",
            "showbackground": true,
            "ticks": "",
            "zerolinecolor": "white"
           },
           "zaxis": {
            "backgroundcolor": "#E5ECF6",
            "gridcolor": "white",
            "gridwidth": 2,
            "linecolor": "white",
            "showbackground": true,
            "ticks": "",
            "zerolinecolor": "white"
           }
          },
          "shapedefaults": {
           "line": {
            "color": "#2a3f5f"
           }
          },
          "ternary": {
           "aaxis": {
            "gridcolor": "white",
            "linecolor": "white",
            "ticks": ""
           },
           "baxis": {
            "gridcolor": "white",
            "linecolor": "white",
            "ticks": ""
           },
           "bgcolor": "#E5ECF6",
           "caxis": {
            "gridcolor": "white",
            "linecolor": "white",
            "ticks": ""
           }
          },
          "title": {
           "x": 0.05
          },
          "xaxis": {
           "automargin": true,
           "gridcolor": "white",
           "linecolor": "white",
           "ticks": "",
           "title": {
            "standoff": 15
           },
           "zerolinecolor": "white",
           "zerolinewidth": 2
          },
          "yaxis": {
           "automargin": true,
           "gridcolor": "white",
           "linecolor": "white",
           "ticks": "",
           "title": {
            "standoff": 15
           },
           "zerolinecolor": "white",
           "zerolinewidth": 2
          }
         }
        },
        "width": 800
       }
      },
      "text/html": [
       "<div>\n",
       "        \n",
       "        \n",
       "            <div id=\"667e925c-7a68-45ea-9245-733e9fb09735\" class=\"plotly-graph-div\" style=\"height:1600px; width:800px;\"></div>\n",
       "            <script type=\"text/javascript\">\n",
       "                require([\"plotly\"], function(Plotly) {\n",
       "                    window.PLOTLYENV=window.PLOTLYENV || {};\n",
       "                    \n",
       "                if (document.getElementById(\"667e925c-7a68-45ea-9245-733e9fb09735\")) {\n",
       "                    Plotly.newPlot(\n",
       "                        '667e925c-7a68-45ea-9245-733e9fb09735',\n",
       "                        [{\"fill\": \"toself\", \"r\": [4.75, 4.791666666666667, 4.916666666666667], \"subplot\": \"polar\", \"theta\": [\"\\uc885\\ud569 \\ud3c9\\uade0\\ubcc4\\uc810\", \"\\ub9db \\ud3c9\\uade0\\ubcc4\\uc810\", \"\\uc591 \\ud3c9\\uade0\\ubcc4\\uc810\"], \"type\": \"scatterpolar\"}, {\"fill\": \"toself\", \"r\": [4.636363636363637, 4.681818181818182, 4.7727272727272725], \"subplot\": \"polar2\", \"theta\": [\"\\uc885\\ud569 \\ud3c9\\uade0\\ubcc4\\uc810\", \"\\ub9db \\ud3c9\\uade0\\ubcc4\\uc810\", \"\\uc591 \\ud3c9\\uade0\\ubcc4\\uc810\"], \"type\": \"scatterpolar\"}, {\"fill\": \"toself\", \"r\": [4.764705882352941, 4.764705882352941, 4.823529411764706], \"subplot\": \"polar3\", \"theta\": [\"\\uc885\\ud569 \\ud3c9\\uade0\\ubcc4\\uc810\", \"\\ub9db \\ud3c9\\uade0\\ubcc4\\uc810\", \"\\uc591 \\ud3c9\\uade0\\ubcc4\\uc810\"], \"type\": \"scatterpolar\"}, {\"fill\": \"toself\", \"r\": [4.705882352941177, 4.9411764705882355, 4.823529411764706], \"subplot\": \"polar4\", \"theta\": [\"\\uc885\\ud569 \\ud3c9\\uade0\\ubcc4\\uc810\", \"\\ub9db \\ud3c9\\uade0\\ubcc4\\uc810\", \"\\uc591 \\ud3c9\\uade0\\ubcc4\\uc810\"], \"type\": \"scatterpolar\"}, {\"fill\": \"toself\", \"r\": [4.6, 4.733333333333333, 4.8], \"subplot\": \"polar5\", \"theta\": [\"\\uc885\\ud569 \\ud3c9\\uade0\\ubcc4\\uc810\", \"\\ub9db \\ud3c9\\uade0\\ubcc4\\uc810\", \"\\uc591 \\ud3c9\\uade0\\ubcc4\\uc810\"], \"type\": \"scatterpolar\"}, {\"fill\": \"toself\", \"r\": [4.133333333333334, 4.4, 4.266666666666667], \"subplot\": \"polar6\", \"theta\": [\"\\uc885\\ud569 \\ud3c9\\uade0\\ubcc4\\uc810\", \"\\ub9db \\ud3c9\\uade0\\ubcc4\\uc810\", \"\\uc591 \\ud3c9\\uade0\\ubcc4\\uc810\"], \"type\": \"scatterpolar\"}, {\"fill\": \"toself\", \"r\": [4.538461538461538, 4.6923076923076925, 4.769230769230769], \"subplot\": \"polar7\", \"theta\": [\"\\uc885\\ud569 \\ud3c9\\uade0\\ubcc4\\uc810\", \"\\ub9db \\ud3c9\\uade0\\ubcc4\\uc810\", \"\\uc591 \\ud3c9\\uade0\\ubcc4\\uc810\"], \"type\": \"scatterpolar\"}, {\"fill\": \"toself\", \"r\": [4.75, 5.0, 4.833333333333333], \"subplot\": \"polar8\", \"theta\": [\"\\uc885\\ud569 \\ud3c9\\uade0\\ubcc4\\uc810\", \"\\ub9db \\ud3c9\\uade0\\ubcc4\\uc810\", \"\\uc591 \\ud3c9\\uade0\\ubcc4\\uc810\"], \"type\": \"scatterpolar\"}, {\"fill\": \"toself\", \"r\": [4.666666666666667, 4.75, 4.833333333333333], \"subplot\": \"polar9\", \"theta\": [\"\\uc885\\ud569 \\ud3c9\\uade0\\ubcc4\\uc810\", \"\\ub9db \\ud3c9\\uade0\\ubcc4\\uc810\", \"\\uc591 \\ud3c9\\uade0\\ubcc4\\uc810\"], \"type\": \"scatterpolar\"}, {\"fill\": \"toself\", \"r\": [4.666666666666667, 4.75, 4.666666666666667], \"subplot\": \"polar10\", \"theta\": [\"\\uc885\\ud569 \\ud3c9\\uade0\\ubcc4\\uc810\", \"\\ub9db \\ud3c9\\uade0\\ubcc4\\uc810\", \"\\uc591 \\ud3c9\\uade0\\ubcc4\\uc810\"], \"type\": \"scatterpolar\"}],\n",
       "                        {\"annotations\": [{\"font\": {\"size\": 16}, \"showarrow\": false, \"text\": \"1\\uc704.\\ubd88\\uace0\\uae30\\ubc84\\uac70\", \"x\": 0.225, \"xanchor\": \"center\", \"xref\": \"paper\", \"y\": 1.0, \"yanchor\": \"bottom\", \"yref\": \"paper\"}, {\"font\": {\"size\": 16}, \"showarrow\": false, \"text\": \"2\\uc704.\\ube45\\ub9e5\\u24c7 \\ub9cc\\uc6d0\\ud329\", \"x\": 0.775, \"xanchor\": \"center\", \"xref\": \"paper\", \"y\": 1.0, \"yanchor\": \"bottom\", \"yref\": \"paper\"}, {\"font\": {\"size\": 16}, \"showarrow\": false, \"text\": \"3\\uc704.\\ub2e8\\ud488 \\uc0c1\\ud558\\uc774 \\uce58\\ud0a8 \\uc2a4\\ub0b5\\ub7a9\\u24c7\", \"x\": 0.225, \"xanchor\": \"center\", \"xref\": \"paper\", \"y\": 0.794, \"yanchor\": \"bottom\", \"yref\": \"paper\"}, {\"font\": {\"size\": 16}, \"showarrow\": false, \"text\": \"4\\uc704.\\ube45\\ub9e5\\u24c7 \\uc138\\ud2b8\", \"x\": 0.775, \"xanchor\": \"center\", \"xref\": \"paper\", \"y\": 0.794, \"yanchor\": \"bottom\", \"yref\": \"paper\"}, {\"font\": {\"size\": 16}, \"showarrow\": false, \"text\": \"5\\uc704.\\ub9e5\\uc2a4\\ud30c\\uc774\\uc2dc\\u24c7 \\uc0c1\\ud558\\uc774\\ubc84\\uac70 \\uc138\\ud2b8\", \"x\": 0.225, \"xanchor\": \"center\", \"xref\": \"paper\", \"y\": 0.588, \"yanchor\": \"bottom\", \"yref\": \"paper\"}, {\"font\": {\"size\": 16}, \"showarrow\": false, \"text\": \"6\\uc704.\\ud2b8\\ub9ac\\ud50c \\uce58\\uc988\\ubc84\\uac70 \\uc138\\ud2b8\", \"x\": 0.775, \"xanchor\": \"center\", \"xref\": \"paper\", \"y\": 0.588, \"yanchor\": \"bottom\", \"yref\": \"paper\"}, {\"font\": {\"size\": 16}, \"showarrow\": false, \"text\": \"7\\uc704.\\ub9e5\\ub108\\uac9f\\u24c7 4\\uc870\\uac01\", \"x\": 0.225, \"xanchor\": \"center\", \"xref\": \"paper\", \"y\": 0.382, \"yanchor\": \"bottom\", \"yref\": \"paper\"}, {\"font\": {\"size\": 16}, \"showarrow\": false, \"text\": \"8\\uc704.\\uce58\\uc988\\ubc84\\uac70\", \"x\": 0.775, \"xanchor\": \"center\", \"xref\": \"paper\", \"y\": 0.382, \"yanchor\": \"bottom\", \"yref\": \"paper\"}, {\"font\": {\"size\": 16}, \"showarrow\": false, \"text\": \"9\\uc704.\\uace8\\ub4e0 \\ubaa8\\uc9dc\\ub810\\ub77c \\uce58\\uc988\\uc2a4\\ud2f1 2\\uc870\\uac01\", \"x\": 0.225, \"xanchor\": \"center\", \"xref\": \"paper\", \"y\": 0.176, \"yanchor\": \"bottom\", \"yref\": \"paper\"}, {\"font\": {\"size\": 16}, \"showarrow\": false, \"text\": \"10\\uc704.\\ube45\\ub9e5\\u24c7\", \"x\": 0.775, \"xanchor\": \"center\", \"xref\": \"paper\", \"y\": 0.176, \"yanchor\": \"bottom\", \"yref\": \"paper\"}], \"height\": 1600, \"polar\": {\"domain\": {\"x\": [0.0, 0.45], \"y\": [0.824, 1.0]}, \"radialaxis\": {\"range\": [4, 5]}}, \"polar10\": {\"domain\": {\"x\": [0.55, 1.0], \"y\": [0.0, 0.176]}, \"radialaxis\": {\"range\": [4, 5]}}, \"polar2\": {\"domain\": {\"x\": [0.55, 1.0], \"y\": [0.824, 1.0]}, \"radialaxis\": {\"range\": [4, 5]}}, \"polar3\": {\"domain\": {\"x\": [0.0, 0.45], \"y\": [0.618, 0.794]}, \"radialaxis\": {\"range\": [4, 5]}}, \"polar4\": {\"domain\": {\"x\": [0.55, 1.0], \"y\": [0.618, 0.794]}, \"radialaxis\": {\"range\": [4, 5]}}, \"polar5\": {\"domain\": {\"x\": [0.0, 0.45], \"y\": [0.412, 0.588]}, \"radialaxis\": {\"range\": [4, 5]}}, \"polar6\": {\"domain\": {\"x\": [0.55, 1.0], \"y\": [0.412, 0.588]}, \"radialaxis\": {\"range\": [4, 5]}}, \"polar7\": {\"domain\": {\"x\": [0.0, 0.45], \"y\": [0.206, 0.382]}, \"radialaxis\": {\"range\": [4, 5]}}, \"polar8\": {\"domain\": {\"x\": [0.55, 1.0], \"y\": [0.206, 0.382]}, \"radialaxis\": {\"range\": [4, 5]}}, \"polar9\": {\"domain\": {\"x\": [0.0, 0.45], \"y\": [0.0, 0.176]}, \"radialaxis\": {\"range\": [4, 5]}}, \"showlegend\": false, \"template\": {\"data\": {\"bar\": [{\"error_x\": {\"color\": \"#2a3f5f\"}, \"error_y\": {\"color\": \"#2a3f5f\"}, \"marker\": {\"line\": {\"color\": \"#E5ECF6\", \"width\": 0.5}}, \"type\": \"bar\"}], \"barpolar\": [{\"marker\": {\"line\": {\"color\": \"#E5ECF6\", \"width\": 0.5}}, \"type\": \"barpolar\"}], \"carpet\": [{\"aaxis\": {\"endlinecolor\": \"#2a3f5f\", \"gridcolor\": \"white\", \"linecolor\": \"white\", \"minorgridcolor\": \"white\", \"startlinecolor\": \"#2a3f5f\"}, \"baxis\": {\"endlinecolor\": \"#2a3f5f\", \"gridcolor\": \"white\", \"linecolor\": \"white\", \"minorgridcolor\": \"white\", \"startlinecolor\": \"#2a3f5f\"}, \"type\": \"carpet\"}], \"choropleth\": [{\"colorbar\": {\"outlinewidth\": 0, \"ticks\": \"\"}, \"type\": \"choropleth\"}], \"contour\": [{\"colorbar\": {\"outlinewidth\": 0, \"ticks\": \"\"}, \"colorscale\": [[0.0, \"#0d0887\"], [0.1111111111111111, \"#46039f\"], [0.2222222222222222, \"#7201a8\"], [0.3333333333333333, \"#9c179e\"], [0.4444444444444444, \"#bd3786\"], [0.5555555555555556, \"#d8576b\"], [0.6666666666666666, \"#ed7953\"], [0.7777777777777778, \"#fb9f3a\"], [0.8888888888888888, \"#fdca26\"], [1.0, \"#f0f921\"]], \"type\": \"contour\"}], \"contourcarpet\": [{\"colorbar\": {\"outlinewidth\": 0, \"ticks\": \"\"}, \"type\": \"contourcarpet\"}], \"heatmap\": [{\"colorbar\": {\"outlinewidth\": 0, \"ticks\": \"\"}, \"colorscale\": [[0.0, \"#0d0887\"], [0.1111111111111111, \"#46039f\"], [0.2222222222222222, \"#7201a8\"], [0.3333333333333333, \"#9c179e\"], [0.4444444444444444, \"#bd3786\"], [0.5555555555555556, \"#d8576b\"], [0.6666666666666666, \"#ed7953\"], [0.7777777777777778, \"#fb9f3a\"], [0.8888888888888888, \"#fdca26\"], [1.0, \"#f0f921\"]], \"type\": \"heatmap\"}], \"heatmapgl\": [{\"colorbar\": {\"outlinewidth\": 0, \"ticks\": \"\"}, \"colorscale\": [[0.0, \"#0d0887\"], [0.1111111111111111, \"#46039f\"], [0.2222222222222222, \"#7201a8\"], [0.3333333333333333, \"#9c179e\"], [0.4444444444444444, \"#bd3786\"], [0.5555555555555556, \"#d8576b\"], [0.6666666666666666, \"#ed7953\"], [0.7777777777777778, \"#fb9f3a\"], [0.8888888888888888, \"#fdca26\"], [1.0, \"#f0f921\"]], \"type\": \"heatmapgl\"}], \"histogram\": [{\"marker\": {\"colorbar\": {\"outlinewidth\": 0, \"ticks\": \"\"}}, \"type\": \"histogram\"}], \"histogram2d\": [{\"colorbar\": {\"outlinewidth\": 0, \"ticks\": \"\"}, \"colorscale\": [[0.0, \"#0d0887\"], [0.1111111111111111, \"#46039f\"], [0.2222222222222222, \"#7201a8\"], [0.3333333333333333, \"#9c179e\"], [0.4444444444444444, \"#bd3786\"], [0.5555555555555556, \"#d8576b\"], [0.6666666666666666, \"#ed7953\"], [0.7777777777777778, \"#fb9f3a\"], [0.8888888888888888, \"#fdca26\"], [1.0, \"#f0f921\"]], \"type\": \"histogram2d\"}], \"histogram2dcontour\": [{\"colorbar\": {\"outlinewidth\": 0, \"ticks\": \"\"}, \"colorscale\": [[0.0, \"#0d0887\"], [0.1111111111111111, \"#46039f\"], [0.2222222222222222, \"#7201a8\"], [0.3333333333333333, \"#9c179e\"], [0.4444444444444444, \"#bd3786\"], [0.5555555555555556, \"#d8576b\"], [0.6666666666666666, \"#ed7953\"], [0.7777777777777778, \"#fb9f3a\"], [0.8888888888888888, \"#fdca26\"], [1.0, \"#f0f921\"]], \"type\": \"histogram2dcontour\"}], \"mesh3d\": [{\"colorbar\": {\"outlinewidth\": 0, \"ticks\": \"\"}, \"type\": \"mesh3d\"}], \"parcoords\": [{\"line\": {\"colorbar\": {\"outlinewidth\": 0, \"ticks\": \"\"}}, \"type\": \"parcoords\"}], \"pie\": [{\"automargin\": true, \"type\": \"pie\"}], \"scatter\": [{\"marker\": {\"colorbar\": {\"outlinewidth\": 0, \"ticks\": \"\"}}, \"type\": \"scatter\"}], \"scatter3d\": [{\"line\": {\"colorbar\": {\"outlinewidth\": 0, \"ticks\": \"\"}}, \"marker\": {\"colorbar\": {\"outlinewidth\": 0, \"ticks\": \"\"}}, \"type\": \"scatter3d\"}], \"scattercarpet\": [{\"marker\": {\"colorbar\": {\"outlinewidth\": 0, \"ticks\": \"\"}}, \"type\": \"scattercarpet\"}], \"scattergeo\": [{\"marker\": {\"colorbar\": {\"outlinewidth\": 0, \"ticks\": \"\"}}, \"type\": \"scattergeo\"}], \"scattergl\": [{\"marker\": {\"colorbar\": {\"outlinewidth\": 0, \"ticks\": \"\"}}, \"type\": \"scattergl\"}], \"scattermapbox\": [{\"marker\": {\"colorbar\": {\"outlinewidth\": 0, \"ticks\": \"\"}}, \"type\": \"scattermapbox\"}], \"scatterpolar\": [{\"marker\": {\"colorbar\": {\"outlinewidth\": 0, \"ticks\": \"\"}}, \"type\": \"scatterpolar\"}], \"scatterpolargl\": [{\"marker\": {\"colorbar\": {\"outlinewidth\": 0, \"ticks\": \"\"}}, \"type\": \"scatterpolargl\"}], \"scatterternary\": [{\"marker\": {\"colorbar\": {\"outlinewidth\": 0, \"ticks\": \"\"}}, \"type\": \"scatterternary\"}], \"surface\": [{\"colorbar\": {\"outlinewidth\": 0, \"ticks\": \"\"}, \"colorscale\": [[0.0, \"#0d0887\"], [0.1111111111111111, \"#46039f\"], [0.2222222222222222, \"#7201a8\"], [0.3333333333333333, \"#9c179e\"], [0.4444444444444444, \"#bd3786\"], [0.5555555555555556, \"#d8576b\"], [0.6666666666666666, \"#ed7953\"], [0.7777777777777778, \"#fb9f3a\"], [0.8888888888888888, \"#fdca26\"], [1.0, \"#f0f921\"]], \"type\": \"surface\"}], \"table\": [{\"cells\": {\"fill\": {\"color\": \"#EBF0F8\"}, \"line\": {\"color\": \"white\"}}, \"header\": {\"fill\": {\"color\": \"#C8D4E3\"}, \"line\": {\"color\": \"white\"}}, \"type\": \"table\"}]}, \"layout\": {\"annotationdefaults\": {\"arrowcolor\": \"#2a3f5f\", \"arrowhead\": 0, \"arrowwidth\": 1}, \"coloraxis\": {\"colorbar\": {\"outlinewidth\": 0, \"ticks\": \"\"}}, \"colorscale\": {\"diverging\": [[0, \"#8e0152\"], [0.1, \"#c51b7d\"], [0.2, \"#de77ae\"], [0.3, \"#f1b6da\"], [0.4, \"#fde0ef\"], [0.5, \"#f7f7f7\"], [0.6, \"#e6f5d0\"], [0.7, \"#b8e186\"], [0.8, \"#7fbc41\"], [0.9, \"#4d9221\"], [1, \"#276419\"]], \"sequential\": [[0.0, \"#0d0887\"], [0.1111111111111111, \"#46039f\"], [0.2222222222222222, \"#7201a8\"], [0.3333333333333333, \"#9c179e\"], [0.4444444444444444, \"#bd3786\"], [0.5555555555555556, \"#d8576b\"], [0.6666666666666666, \"#ed7953\"], [0.7777777777777778, \"#fb9f3a\"], [0.8888888888888888, \"#fdca26\"], [1.0, \"#f0f921\"]], \"sequentialminus\": [[0.0, \"#0d0887\"], [0.1111111111111111, \"#46039f\"], [0.2222222222222222, \"#7201a8\"], [0.3333333333333333, \"#9c179e\"], [0.4444444444444444, \"#bd3786\"], [0.5555555555555556, \"#d8576b\"], [0.6666666666666666, \"#ed7953\"], [0.7777777777777778, \"#fb9f3a\"], [0.8888888888888888, \"#fdca26\"], [1.0, \"#f0f921\"]]}, \"colorway\": [\"#636efa\", \"#EF553B\", \"#00cc96\", \"#ab63fa\", \"#FFA15A\", \"#19d3f3\", \"#FF6692\", \"#B6E880\", \"#FF97FF\", \"#FECB52\"], \"font\": {\"color\": \"#2a3f5f\"}, \"geo\": {\"bgcolor\": \"white\", \"lakecolor\": \"white\", \"landcolor\": \"#E5ECF6\", \"showlakes\": true, \"showland\": true, \"subunitcolor\": \"white\"}, \"hoverlabel\": {\"align\": \"left\"}, \"hovermode\": \"closest\", \"mapbox\": {\"style\": \"light\"}, \"paper_bgcolor\": \"white\", \"plot_bgcolor\": \"#E5ECF6\", \"polar\": {\"angularaxis\": {\"gridcolor\": \"white\", \"linecolor\": \"white\", \"ticks\": \"\"}, \"bgcolor\": \"#E5ECF6\", \"radialaxis\": {\"gridcolor\": \"white\", \"linecolor\": \"white\", \"ticks\": \"\"}}, \"scene\": {\"xaxis\": {\"backgroundcolor\": \"#E5ECF6\", \"gridcolor\": \"white\", \"gridwidth\": 2, \"linecolor\": \"white\", \"showbackground\": true, \"ticks\": \"\", \"zerolinecolor\": \"white\"}, \"yaxis\": {\"backgroundcolor\": \"#E5ECF6\", \"gridcolor\": \"white\", \"gridwidth\": 2, \"linecolor\": \"white\", \"showbackground\": true, \"ticks\": \"\", \"zerolinecolor\": \"white\"}, \"zaxis\": {\"backgroundcolor\": \"#E5ECF6\", \"gridcolor\": \"white\", \"gridwidth\": 2, \"linecolor\": \"white\", \"showbackground\": true, \"ticks\": \"\", \"zerolinecolor\": \"white\"}}, \"shapedefaults\": {\"line\": {\"color\": \"#2a3f5f\"}}, \"ternary\": {\"aaxis\": {\"gridcolor\": \"white\", \"linecolor\": \"white\", \"ticks\": \"\"}, \"baxis\": {\"gridcolor\": \"white\", \"linecolor\": \"white\", \"ticks\": \"\"}, \"bgcolor\": \"#E5ECF6\", \"caxis\": {\"gridcolor\": \"white\", \"linecolor\": \"white\", \"ticks\": \"\"}}, \"title\": {\"x\": 0.05}, \"xaxis\": {\"automargin\": true, \"gridcolor\": \"white\", \"linecolor\": \"white\", \"ticks\": \"\", \"title\": {\"standoff\": 15}, \"zerolinecolor\": \"white\", \"zerolinewidth\": 2}, \"yaxis\": {\"automargin\": true, \"gridcolor\": \"white\", \"linecolor\": \"white\", \"ticks\": \"\", \"title\": {\"standoff\": 15}, \"zerolinecolor\": \"white\", \"zerolinewidth\": 2}}}, \"width\": 800},\n",
       "                        {\"responsive\": true}\n",
       "                    ).then(function(){\n",
       "                            \n",
       "var gd = document.getElementById('667e925c-7a68-45ea-9245-733e9fb09735');\n",
       "var x = new MutationObserver(function (mutations, observer) {{\n",
       "        var display = window.getComputedStyle(gd).display;\n",
       "        if (!display || display === 'none') {{\n",
       "            console.log([gd, 'removed!']);\n",
       "            Plotly.purge(gd);\n",
       "            observer.disconnect();\n",
       "        }}\n",
       "}});\n",
       "\n",
       "// Listen for the removal of the full notebook cells\n",
       "var notebookContainer = gd.closest('#notebook-container');\n",
       "if (notebookContainer) {{\n",
       "    x.observe(notebookContainer, {childList: true});\n",
       "}}\n",
       "\n",
       "// Listen for the clearing of the current output cell\n",
       "var outputEl = gd.closest('.output');\n",
       "if (outputEl) {{\n",
       "    x.observe(outputEl, {childList: true});\n",
       "}}\n",
       "\n",
       "                        })\n",
       "                };\n",
       "                });\n",
       "            </script>\n",
       "        </div>"
      ]
     },
     "metadata": {},
     "output_type": "display_data"
    }
   ],
   "source": [
    "import matplotlib.pyplot as plt\n",
    "import plotly\n",
    "import math\n",
    "import plotly.graph_objs as go\n",
    "import plotly.subplots\n",
    "from plotly import tools\n",
    "from math import pi\n",
    "TITLE = ()\n",
    "\n",
    "for i in np.arange(len(part_menu)):\n",
    "    TITLE += (str(i + 1) + '위.' + part_menu['메뉴'][i],)\n",
    "    # i번째 메뉴 할당\n",
    "fig = plotly.subplots.make_subplots(rows = 5, cols = 2,\n",
    "                                    specs = [\n",
    "                                        [{'type':'polar'}, {'type':'polar'}],\n",
    "                                        [{'type':'polar'}, {'type':'polar'}],\n",
    "                                        [{'type':'polar'}, {'type':'polar'}],\n",
    "                                        [{'type':'polar'}, {'type':'polar'}],\n",
    "                                        [{'type':'polar'}, {'type':'polar'}],\n",
    "                                    ], subplot_titles = TITLE,vertical_spacing=0.03)\n",
    "for i in np.arange(len(part_menu)):\n",
    "    TOTAL=part_menu['total_sum'][i]/part_menu['주문량'][i]\n",
    "    # i번째 평균 토탈 별점 할당\n",
    "    \n",
    "    TASTE=part_menu['taste_sum'][i]/part_menu['주문량'][i]\n",
    "    # i번째 평균 맛 별점 할당\n",
    "    \n",
    "    QUANTITY=part_menu['quantity_sum'][i]/part_menu['주문량'][i]\n",
    "    # i번째 평균 양 별점 할당\n",
    "\n",
    "    fig.add_trace(plotly.graph_objects.Scatterpolar(r=[TOTAL, TASTE, QUANTITY], \n",
    "                                                    theta=['종합 평균별점', '맛 평균별점', '양 평균별점'], \n",
    "                                                    fill='toself'),\n",
    "                 row = math.ceil((i + 1) / 2), col = (i % 2) + 1)\n",
    "\n",
    "    fig.update_layout(height=1600, width=800,\n",
    "                      polar1=dict(radialaxis=dict(range=[4, 5])),\n",
    "                      polar2=dict(radialaxis=dict(range=[4, 5])),\n",
    "                      polar3=dict(radialaxis=dict(range=[4, 5])),\n",
    "                      polar4=dict(radialaxis=dict(range=[4, 5])),\n",
    "                      polar5=dict(radialaxis=dict(range=[4, 5])),\n",
    "                      polar6=dict(radialaxis=dict(range=[4, 5])),\n",
    "                      polar7=dict(radialaxis=dict(range=[4, 5])),\n",
    "                      polar8=dict(radialaxis=dict(range=[4, 5])),\n",
    "                      polar9=dict(radialaxis=dict(range=[4, 5])),\n",
    "                      polar10=dict(radialaxis=dict(range=[4, 5])),\n",
    "                  showlegend=False)\n",
    "\n",
    "fig.show()"
   ]
  }
 ],
 "metadata": {
  "kernelspec": {
   "display_name": "Python 3",
   "language": "python",
   "name": "python3"
  },
  "language_info": {
   "codemirror_mode": {
    "name": "ipython",
    "version": 3
   },
   "file_extension": ".py",
   "mimetype": "text/x-python",
   "name": "python",
   "nbconvert_exporter": "python",
   "pygments_lexer": "ipython3",
   "version": "3.7.6"
  }
 },
 "nbformat": 4,
 "nbformat_minor": 4
}
